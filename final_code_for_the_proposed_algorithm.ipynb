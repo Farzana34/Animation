{
  "nbformat": 4,
  "nbformat_minor": 0,
  "metadata": {
    "colab": {
      "name": "final code for the proposed algorithm.ipynb",
      "provenance": [],
      "authorship_tag": "ABX9TyP/buqXCnlh7d2SfIzdNAws",
      "include_colab_link": true
    },
    "kernelspec": {
      "name": "python3",
      "display_name": "Python 3"
    }
  },
  "cells": [
    {
      "cell_type": "markdown",
      "metadata": {
        "id": "view-in-github",
        "colab_type": "text"
      },
      "source": [
        "<a href=\"https://colab.research.google.com/github/Farzana34/Animation/blob/main/final_code_for_the_proposed_algorithm.ipynb\" target=\"_parent\"><img src=\"https://colab.research.google.com/assets/colab-badge.svg\" alt=\"Open In Colab\"/></a>"
      ]
    },
    {
      "cell_type": "code",
      "metadata": {
        "colab": {
          "base_uri": "https://localhost:8080/"
        },
        "id": "zLZDayPisCe1",
        "outputId": "27696b00-6a74-4076-f374-f17017ea1c99"
      },
      "source": [
        "import numpy as np \r\n",
        "\r\n",
        "R = int(input(\"Enter the number of jobs:\")) \r\n",
        "C = int(input(\"Enter the number of machines:\")) \r\n",
        "\r\n",
        "matrix = [] \r\n",
        "print(\"Enter the entries rowwise:\") \r\n",
        "\r\n",
        "for i in range(R):          \r\n",
        "    a =[] \r\n",
        "    for j in range(C):      \r\n",
        "      a.append(int(input())) \r\n",
        "    matrix.append(a) \r\n",
        "\r\n",
        "for i in range(R): \r\n",
        "  for j in range(C): \r\n",
        "      print(matrix[i][j], end = \" \") \r\n",
        "  print() "
      ],
      "execution_count": 15,
      "outputs": [
        {
          "output_type": "stream",
          "text": [
            "Enter the number of jobs:5\n",
            "Enter the number of machines:5\n",
            "Enter the entries rowwise:\n",
            "9\n",
            "11\n",
            "14\n",
            "11\n",
            "7\n",
            "6\n",
            "5\n",
            "13\n",
            "13\n",
            "10\n",
            "12\n",
            "13\n",
            "6\n",
            "8\n",
            "8\n",
            "11\n",
            "9\n",
            "10\n",
            "12\n",
            "9\n",
            "7\n",
            "12\n",
            "11\n",
            "10\n",
            "14\n",
            "9 11 14 11 7 \n",
            "6 5 13 13 10 \n",
            "12 13 6 8 8 \n",
            "11 9 10 12 9 \n",
            "7 12 11 10 14 \n"
          ],
          "name": "stdout"
        }
      ]
    },
    {
      "cell_type": "code",
      "metadata": {
        "id": "NbXpxK6KqVkF"
      },
      "source": [
        "import sys\r\n",
        "minmatrix=[]\r\n",
        "\r\n",
        "for i in range(C):\r\n",
        "    min=sys.maxsize\r\n",
        "    for j in range(R): \r\n",
        "        if matrix[j][i]<min:\r\n",
        "           min=matrix[j][i]\r\n",
        "           mr=j\r\n",
        "           mc=i\r\n",
        "    minmatrix.append([min,mr,mc])\r\n",
        "\r\n",
        "row=[ro[1] for ro in minmatrix]\r\n"
      ],
      "execution_count": 17,
      "outputs": []
    },
    {
      "cell_type": "code",
      "metadata": {
        "id": "yplAfqbg8cIA"
      },
      "source": [
        "from collections import Counter\r\n",
        "i=0\r\n",
        "sum=0\r\n",
        "a=0\r\n",
        "b=0\r\n",
        "nmin=[]\r\n",
        "job=[]\r\n",
        "njob=[]\r\n",
        "nrow=[]\r\n",
        "for x in row:\r\n",
        "  c=row.count(x)\r\n",
        "  if c>1:\r\n",
        "    njob.append([minmatrix[i][1],minmatrix[i][2]])\r\n",
        "    if x not in nrow:\r\n",
        "     nrow.append(minmatrix[i][1])\r\n",
        "  if c==1:\r\n",
        "     job.append([minmatrix[i][1],minmatrix[i][2]])\r\n",
        "     sum=sum+minmatrix[i][0]\r\n",
        "     nr=minmatrix[i][1]\r\n",
        "     nc=minmatrix[i][2]\r\n",
        "     for j in range(C):\r\n",
        "       matrix[nr][j]=-1\r\n",
        "     for j in range(R):\r\n",
        "       matrix[j][nc]=-1\r\n",
        "  i=i+1\r\n",
        "   "
      ],
      "execution_count": 18,
      "outputs": []
    },
    {
      "cell_type": "code",
      "metadata": {
        "id": "ZvU9cjo-3qAB"
      },
      "source": [
        "uniqrow=[]\r\n",
        "for i in range(R):\r\n",
        "        if i not in row:\r\n",
        "            uniqrow.append(i)\r\n",
        "            nrow.append(i)"
      ],
      "execution_count": 19,
      "outputs": []
    },
    {
      "cell_type": "code",
      "metadata": {
        "id": "EgdIeVG85cE1"
      },
      "source": [
        "j=0\r\n",
        "sub=[]\r\n",
        "for i in range(0,len(njob),2):\r\n",
        "  r1=njob[i][0]\r\n",
        "  c1=njob[i][1]\r\n",
        "  r2=njob[i+1][0]\r\n",
        "  c2=njob[i+1][1]\r\n",
        "  ur=uniqrow[j]\r\n",
        "  a=abs(matrix[r1][c1]-matrix[ur][c1])\r\n",
        "  b=abs(matrix[r2][c2]-matrix[ur][c2])\r\n",
        "  if a>b:\r\n",
        "    job.append([r1,c1])\r\n",
        "    job.append([ur,c2])\r\n",
        "    sum=sum+matrix[r1][c1]+matrix[ur][c2]\r\n",
        "  else:\r\n",
        "    job.append([r2,c2])\r\n",
        "    job.append([ur,c1])\r\n",
        "    sum=sum+matrix[r2][c2]+matrix[ur][c1]\r\n",
        "  j=j+1"
      ],
      "execution_count": 20,
      "outputs": []
    },
    {
      "cell_type": "code",
      "metadata": {
        "colab": {
          "base_uri": "https://localhost:8080/"
        },
        "id": "L-r8wVH1D2Rh",
        "outputId": "629bb233-7296-4fe6-ad88-8f9825fecd1f"
      },
      "source": [
        "job=np.array(job)\r\n",
        "sortjob= job[job[:,0].argsort()]\r\n",
        "\r\n",
        "for i in range(R):\r\n",
        "  print(\"Job\",sortjob[i][0]+1,\"assign to\",sortjob[i][1]+1)\r\n",
        "\r\n",
        "print(\"Total processing time is=\",sum)"
      ],
      "execution_count": 21,
      "outputs": [
        {
          "output_type": "stream",
          "text": [
            "Job 1 assign to 5\n",
            "Job 2 assign to 1\n",
            "Job 3 assign to 3\n",
            "Job 4 assign to 2\n",
            "Job 5 assign to 4\n",
            "Total processing time is= 38\n"
          ],
          "name": "stdout"
        }
      ]
    }
  ]
}